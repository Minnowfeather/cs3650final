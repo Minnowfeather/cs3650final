{
 "cells": [
  {
   "cell_type": "code",
   "execution_count": null,
   "id": "2167d0e6-a636-4b48-bc40-3635c5cb5e99",
   "metadata": {},
   "outputs": [],
   "source": [
    "from qiskit import *"
   ]
  }
 ],
 "metadata": {
  "kernelspec": {
   "display_name": "Python 3 (ipykernel)",
   "language": "python",
   "name": "python3"
  },
  "language_info": {
   "codemirror_mode": {
    "name": "ipython",
    "version": 3
   },
   "file_extension": ".py",
   "mimetype": "text/x-python",
   "name": "python",
   "nbconvert_exporter": "python",
   "pygments_lexer": "ipython3",
   "version": "3.8.5"
  }
 },
 "nbformat": 4,
 "nbformat_minor": 5
}
